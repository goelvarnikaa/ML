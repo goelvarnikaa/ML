{
 "cells": [
  {
   "cell_type": "code",
   "execution_count": null,
   "id": "7e864200-92d5-4055-b046-44054007fc0a",
   "metadata": {},
   "outputs": [],
   "source": [
    "import numpy as np\n",
    "import pandas as pd\n",
    "import random"
   ]
  },
  {
   "cell_type": "code",
   "execution_count": null,
   "id": "f1042a37-bbb0-42bb-87bf-135745f1c4ef",
   "metadata": {},
   "outputs": [],
   "source": [
    "path = \"Iris.csv\"\n",
    "names = ['x1','x2','x3','x4','y']\n",
    "iris_data = pd.read_csv(path,names=names)"
   ]
  },
  {
   "cell_type": "code",
   "execution_count": null,
   "id": "1d446f8d-ca9c-492a-b7c0-1a3312ddf1d8",
   "metadata": {},
   "outputs": [],
   "source": [
    "iris_data.head()"
   ]
  },
  {
   "cell_type": "code",
   "execution_count": null,
   "id": "5876dddc-af97-4f3f-9f84-1a4ca1fa8f0b",
   "metadata": {},
   "outputs": [],
   "source": [
    "mapping = {}\n",
    "class_index = 1.0\n",
    "for class_ in set(iris_data['y']):\n",
    "    mapping[class_] = class_index\n",
    "    class_index += 1.0\n",
    "mapping"
   ]
  },
  {
   "cell_type": "code",
   "execution_count": null,
   "id": "479d1eaf-15f3-43fd-8ee8-6369ae251e97",
   "metadata": {},
   "outputs": [],
   "source": [
    "iris_data['y']=iris_data['y'].replace(mapping)"
   ]
  },
  {
   "cell_type": "code",
   "execution_count": null,
   "id": "5ec43cea-981b-41fc-a72f-bfd2ce5e8717",
   "metadata": {},
   "outputs": [],
   "source": [
    "iris_data.head()"
   ]
  },
  {
   "cell_type": "code",
   "execution_count": null,
   "id": "939d382b-e55d-4d0c-8c9f-c6b9095e9cb4",
   "metadata": {},
   "outputs": [],
   "source": [
    "training=[]\n",
    "one=iris_data.iloc[0:40]\n",
    "training.append(one)\n",
    "\n",
    "two=iris_data.iloc[50:90]\n",
    "training.append(two)\n",
    "\n",
    "three=iris_data.iloc[100:140]\n",
    "training.append(three)\n",
    "training"
   ]
  },
  {
   "cell_type": "code",
   "execution_count": null,
   "id": "634a163c-395a-44fa-b04b-e8c2ba991274",
   "metadata": {},
   "outputs": [],
   "source": [
    "testpt=[]\n",
    "onet=iris_data.iloc[40:50]\n",
    "testpt.append(one)\n",
    "\n",
    "twot=iris_data.iloc[90:100]\n",
    "testpt.append(two)\n",
    "\n",
    "threet=iris_data.iloc[140:150]\n",
    "testpt.append(three)\n",
    "testpt"
   ]
  },
  {
   "cell_type": "code",
   "execution_count": null,
   "id": "f812a24d-1565-4f59-9a02-936c52abfab3",
   "metadata": {},
   "outputs": [],
   "source": [
    "iris_data['y']=iris_data['y'].replace()\n",
    "iris_data"
   ]
  },
  {
   "cell_type": "code",
   "execution_count": null,
   "id": "8985d45a-d088-44dd-bea6-8ca5bbb63f05",
   "metadata": {},
   "outputs": [],
   "source": [
    "#calculating mean using numpy for the cluster 1\n",
    "mean1=np.mean(one, axis=0)\n",
    "\n",
    "#calculating mean using numpy for the cluster 2\n",
    "mean2=np.mean(two, axis=0)\n",
    "\n",
    "#calculating mean using numpy for the cluster 3\n",
    "mean3=np.mean(three, axis=0)"
   ]
  },
  {
   "cell_type": "code",
   "execution_count": null,
   "id": "50f6769b-83a8-4fca-8ddf-78db81253d4e",
   "metadata": {},
   "outputs": [],
   "source": [
    "#calculating the distance between the mean and the test points\n",
    "def test(testpt):\n",
    "    dist1=np.sqrt(np.sum(np.square(np.subtract(mean1,testpt))))\n",
    "    dist2=np.sqrt(np.sum(np.square(np.subtract(mean2,testpt))))\n",
    "    dist3=np.sqrt(np.sum(np.square(np.subtract(mean3,testpt))))\n",
    "#conditioning the distance and determining the location of the test points\n",
    "    if dist1<dist2 and dist1<dist3:\n",
    "        return 1\n",
    "    elif dist2<dist3 and dist2<dist1:\n",
    "        return 2\n",
    "    else:\n",
    "        return 3"
   ]
  },
  {
   "cell_type": "code",
   "execution_count": null,
   "id": "428f644c-737e-4324-b8e3-f061b2e9776f",
   "metadata": {},
   "outputs": [],
   "source": [
    "#ACCURACY\n",
    "correct=0\n",
    "for i in iris_data:\n",
    "    testpt1=i[:5]\n",
    "    if test(testpt1)==i[:5]:\n",
    "        correct+=1\n",
    "    else:\n",
    "        incorrect+=1\n",
    "accuracy=np.multiply(np.divide(correct,len(testpt)),100)\n",
    "accuracy"
   ]
  },
  {
   "cell_type": "code",
   "execution_count": null,
   "id": "81bc3bc1-9cf1-407c-ab87-d7a3f0c45c3a",
   "metadata": {},
   "outputs": [],
   "source": []
  }
 ],
 "metadata": {
  "kernelspec": {
   "display_name": "Python 3 (ipykernel)",
   "language": "python",
   "name": "python3"
  },
  "language_info": {
   "codemirror_mode": {
    "name": "ipython",
    "version": 3
   },
   "file_extension": ".py",
   "mimetype": "text/x-python",
   "name": "python",
   "nbconvert_exporter": "python",
   "pygments_lexer": "ipython3",
   "version": "3.9.12"
  }
 },
 "nbformat": 4,
 "nbformat_minor": 5
}
