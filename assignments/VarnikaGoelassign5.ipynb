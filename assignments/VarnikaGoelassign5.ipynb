{
 "cells": [
  {
   "cell_type": "code",
   "execution_count": 69,
   "id": "af28541e",
   "metadata": {},
   "outputs": [],
   "source": [
    "#Importing libraries\n",
    "import numpy as np\n",
    "import pandas as pd\n",
    "import random"
   ]
  },
  {
   "cell_type": "code",
   "execution_count": 62,
   "id": "6af37c76",
   "metadata": {},
   "outputs": [],
   "source": [
    "#importing dataset\n",
    "data1=pd.read_csv(r\"C:\\Users\\VARNIKA\\Desktop\\mnist_train.csv\")\n",
    "data2=pd.read_csv(r\"C:\\Users\\VARNIKA\\Desktop\\mnist_test.csv\")"
   ]
  },
  {
   "cell_type": "code",
   "execution_count": 63,
   "id": "e3969971",
   "metadata": {},
   "outputs": [],
   "source": [
    "#cluster formation\n",
    "cluster=[]\n",
    "for i in range(10):\n",
    "    cluster.append(train[train[:,0]==i])"
   ]
  },
  {
   "cell_type": "code",
   "execution_count": 64,
   "id": "0752e9e6",
   "metadata": {},
   "outputs": [],
   "source": [
    "#duplicate clusters for further use \n",
    "cluster2=[]\n",
    "for i in range(10):\n",
    "    cluster2.append(train[train[:,0]==i])"
   ]
  },
  {
   "cell_type": "code",
   "execution_count": 65,
   "id": "20bc8ebf",
   "metadata": {},
   "outputs": [],
   "source": [
    "#taking up of random 20% of data while shuffling\n",
    "data=[]\n",
    "for i in range(10):\n",
    "    for j in range(5):\n",
    "        data.append(np.array(random.sample(list(cluster2[i]),int(len(cluster2[i])//5))))\n",
    "        cluster2[i]=cluster[i]"
   ]
  },
  {
   "cell_type": "code",
   "execution_count": 66,
   "id": "4d1dd48f",
   "metadata": {},
   "outputs": [],
   "source": [
    "#label wise mean\n",
    "mean1={}\n",
    "for i in range(50):\n",
    "    mean1[f'{i}']=np.mean(data[i][:,1:],axis=0)"
   ]
  },
  {
   "cell_type": "code",
   "execution_count": 88,
   "id": "369441ca",
   "metadata": {},
   "outputs": [],
   "source": [
    "listt=[]\n",
    "for i in range(10):\n",
    "    for j in range(5):\n",
    "        listt.append(i)"
   ]
  },
  {
   "cell_type": "code",
   "execution_count": 72,
   "id": "c1cae3d7",
   "metadata": {},
   "outputs": [],
   "source": [
    "testx=np.array(data2.loc[:,data2.columns!='label'])"
   ]
  },
  {
   "cell_type": "code",
   "execution_count": 89,
   "id": "e693ea0f",
   "metadata": {},
   "outputs": [],
   "source": [
    "#distance\n",
    "pred=[]\n",
    "for i in range(10000):\n",
    "    distance=[]\n",
    "    index=0\n",
    "    Y=[]\n",
    "    for j in range(10):\n",
    "        for k in range(5):\n",
    "            distance.append(np.linalg.norm(testx[i]-mean1[f'{index}']))\n",
    "            index+=1\n",
    "    distance=np.array(distance)\n",
    "    distance=np.stack((distance,listt),axis=1)\n",
    "    distance=distance.astype(\"int64\")\n",
    "    distance=distance[distance[:,0].argsort()]\n",
    "    Y=distance[:5]\n",
    "    var=0\n",
    "    for j in range(5):\n",
    "        for n in Y[:,1]:\n",
    "            if np.count_nonzero(Y[:,1]==n)>1:\n",
    "                var=n\n",
    "            else:\n",
    "                var=n\n",
    "    pred.append(n)"
   ]
  },
  {
   "cell_type": "code",
   "execution_count": 90,
   "id": "4937f597",
   "metadata": {},
   "outputs": [],
   "source": [
    "testy=np.array(data2['label'])"
   ]
  },
  {
   "cell_type": "code",
   "execution_count": 95,
   "id": "6fb665c4",
   "metadata": {},
   "outputs": [
    {
     "data": {
      "text/plain": [
       "8115"
      ]
     },
     "execution_count": 95,
     "metadata": {},
     "output_type": "execute_result"
    }
   ],
   "source": [
    "#accuracy \n",
    "count=0\n",
    "for i in range(10000):\n",
    "    if pred[i]==testy[i]:\n",
    "        count+=1\n",
    "count"
   ]
  },
  {
   "cell_type": "code",
   "execution_count": 96,
   "id": "70c35bd5",
   "metadata": {},
   "outputs": [
    {
     "name": "stdout",
     "output_type": "stream",
     "text": [
      "Total Accuracy:  81.15 %\n"
     ]
    }
   ],
   "source": [
    "Accuracy= count/len(Y_test)*100\n",
    "print(\"Total Accuracy: \",Accuracy,'%')"
   ]
  },
  {
   "cell_type": "code",
   "execution_count": 94,
   "id": "0d0e8f00",
   "metadata": {},
   "outputs": [
    {
     "name": "stdout",
     "output_type": "stream",
     "text": [
      "Accuracy for class0: 88.36734693877551\n",
      "Accuracy for class1: 96.0352422907489\n",
      "Accuracy for class2: 73.54651162790697\n",
      "Accuracy for class3: 81.68316831683168\n",
      "Accuracy for class4: 82.68839103869654\n",
      "Accuracy for class5: 65.5829596412556\n",
      "Accuracy for class6: 84.75991649269311\n",
      "Accuracy for class7: 82.87937743190662\n",
      "Accuracy for class8: 73.71663244353182\n",
      "Accuracy for class9: 78.88999008919723\n"
     ]
    }
   ],
   "source": [
    "#class-wise accuracy\n",
    "for i in set(pred):\n",
    "    count_=list(testy).count(i)\n",
    "    f=f_count.count(i)\n",
    "    print(f'Accuracy for class{i}:',100-f/count_*100 )"
   ]
  },
  {
   "cell_type": "code",
   "execution_count": null,
   "id": "ebcf48aa",
   "metadata": {},
   "outputs": [],
   "source": []
  }
 ],
 "metadata": {
  "kernelspec": {
   "display_name": "Python 3 (ipykernel)",
   "language": "python",
   "name": "python3"
  },
  "language_info": {
   "codemirror_mode": {
    "name": "ipython",
    "version": 3
   },
   "file_extension": ".py",
   "mimetype": "text/x-python",
   "name": "python",
   "nbconvert_exporter": "python",
   "pygments_lexer": "ipython3",
   "version": "3.9.12"
  }
 },
 "nbformat": 4,
 "nbformat_minor": 5
}
