{
 "cells": [
  {
   "cell_type": "code",
   "execution_count": null,
   "id": "d0fe16b2-54a8-4866-aeac-0ab7e1df6ad6",
   "metadata": {},
   "outputs": [],
   "source": [
    "import random\n",
    "import numpy as np"
   ]
  },
  {
   "cell_type": "code",
   "execution_count": null,
   "id": "c231d502-45a2-4263-9647-d9cc83460b05",
   "metadata": {},
   "outputs": [],
   "source": [
    "#generating 100 random points (using numpy) in 1000 dimensions in cluster 1 i.e first quadrant\n",
    "first=np.random.uniform(2,4, size=(100,1000))\n",
    "\n",
    "#generating 100 random points (using numpy) in 1000 dimensions in cluster 2 i.e third quadrant\n",
    "third=np.random.uniform(0,2, size=(100,1000))"
   ]
  },
  {
   "cell_type": "code",
   "execution_count": null,
   "id": "e1629609-5920-4cc4-b581-f71b82ba4e59",
   "metadata": {},
   "outputs": [],
   "source": [
    "#calculating mean using numpy for the cluster 1\n",
    "mean1=np.mean(first,axis=0)\n",
    "\n",
    "#calculating mean using numpy for the cluster 2\n",
    "mean2=np.mean(third,axis=0)"
   ]
  },
  {
   "cell_type": "code",
   "execution_count": null,
   "id": "62c6bb2d-8703-4880-a886-f8a8035b6ebe",
   "metadata": {},
   "outputs": [],
   "source": [
    "#calculating the distance between the mean and the test points\n",
    "def test(points):\n",
    "    dist1=np.sqrt(np.sum(np.square(np.subtract(mean1,points))))\n",
    "    dist2=np.sqrt(np.sum(np.square(np.subtract(mean2,points))))\n",
    "\n",
    "#conditioning the distance and determining the location of the test points\n",
    "    if dist1<dist2:\n",
    "        print(points,\"belong to cluster 1 i.e first quadrant\")\n",
    "    else:\n",
    "        print(points,\"belong to cluster2 i.e. third quadrant\")"
   ]
  },
  {
   "cell_type": "code",
   "execution_count": null,
   "id": "ec9b89b3-fcd6-45e3-ac5f-bdb5cfd3534c",
   "metadata": {},
   "outputs": [],
   "source": [
    "#generating random test points \n",
    "points=np.random.uniform(0,4,size=(1000))"
   ]
  },
  {
   "cell_type": "code",
   "execution_count": null,
   "id": "eab5c026-8cf7-45ac-a1c7-2e5f3635fb7c",
   "metadata": {},
   "outputs": [],
   "source": [
    "test(points)"
   ]
  },
  {
   "cell_type": "code",
   "execution_count": null,
   "id": "b85045e0-7f01-4704-917b-aae13940ddf9",
   "metadata": {},
   "outputs": [],
   "source": []
  }
 ],
 "metadata": {
  "kernelspec": {
   "display_name": "Python 3 (ipykernel)",
   "language": "python",
   "name": "python3"
  },
  "language_info": {
   "codemirror_mode": {
    "name": "ipython",
    "version": 3
   },
   "file_extension": ".py",
   "mimetype": "text/x-python",
   "name": "python",
   "nbconvert_exporter": "python",
   "pygments_lexer": "ipython3",
   "version": "3.9.12"
  }
 },
 "nbformat": 4,
 "nbformat_minor": 5
}
