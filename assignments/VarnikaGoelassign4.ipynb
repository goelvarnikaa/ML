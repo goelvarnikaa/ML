{
 "cells": [
  {
   "cell_type": "code",
   "execution_count": 1,
   "id": "0067cd41",
   "metadata": {},
   "outputs": [],
   "source": [
    "import pandas as pd\n",
    "import numpy as np"
   ]
  },
  {
   "cell_type": "code",
   "execution_count": 2,
   "id": "54f1df47",
   "metadata": {},
   "outputs": [],
   "source": [
    "#mnist_train dataset\n",
    "train=pd.read_csv(r\"C:\\Users\\VARNIKA\\Desktop\\mnist_train.csv\")"
   ]
  },
  {
   "cell_type": "code",
   "execution_count": 3,
   "id": "6809316e",
   "metadata": {},
   "outputs": [],
   "source": [
    "#mnist_test dataset\n",
    "test=pd.read_csv(r\"C:\\Users\\VARNIKA\\Desktop\\mnist_test.csv\")"
   ]
  },
  {
   "cell_type": "code",
   "execution_count": 4,
   "id": "8de61d8b",
   "metadata": {},
   "outputs": [],
   "source": [
    "#converting in numpy array\n",
    "import numpy as np\n",
    "train=train.to_numpy()\n",
    "test=test.to_numpy()"
   ]
  },
  {
   "cell_type": "code",
   "execution_count": 6,
   "id": "777a1e83",
   "metadata": {},
   "outputs": [
    {
     "data": {
      "text/plain": [
       "array([0, 1, 2, 3, 4, 5, 6, 7, 8, 9], dtype=int64)"
      ]
     },
     "execution_count": 6,
     "metadata": {},
     "output_type": "execute_result"
    }
   ],
   "source": [
    "#unique values in training dataset\n",
    "unitrain=np.unique(train[:,0])\n",
    "unitrainw"
   ]
  },
  {
   "cell_type": "code",
   "execution_count": 7,
   "id": "82ffcf9e",
   "metadata": {},
   "outputs": [],
   "source": [
    "#creating clusters\n",
    "cluster={}\n",
    "for i in unitrain:\n",
    "    cluster[i]=train[np.where(train[:,0]==i)][:,1:]"
   ]
  },
  {
   "cell_type": "code",
   "execution_count": 8,
   "id": "22d1dad8",
   "metadata": {},
   "outputs": [],
   "source": [
    "#creating label\n",
    "labeltest=test[:,0]"
   ]
  },
  {
   "cell_type": "code",
   "execution_count": 9,
   "id": "8cf14ad9",
   "metadata": {},
   "outputs": [],
   "source": [
    "#mean of cluster\n",
    "mean={}\n",
    "for i in unitrain:\n",
    "    mean[i]=[np.mean(cluster[i],axis=0)]"
   ]
  },
  {
   "cell_type": "code",
   "execution_count": 10,
   "id": "cb89a540",
   "metadata": {},
   "outputs": [],
   "source": [
    "#distance\n",
    "def test1(testpoint):\n",
    "    x = [digit for digit in cluster.keys()]    \n",
    "    y = []\n",
    "    for digit in mean.keys():\n",
    "        y.append(np.sqrt(np.sum(np.square(np.subtract(mean[digit],testpoint)))))  #distance from each cluster\n",
    "    dist= dict(zip(x,y))\n",
    "    for key in dist.keys():\n",
    "        if dist[key]==min(dist.values()):\n",
    "            return key"
   ]
  },
  {
   "cell_type": "code",
   "execution_count": 11,
   "id": "d5629f9c",
   "metadata": {},
   "outputs": [],
   "source": [
    "testdata=test[:,1:]"
   ]
  },
  {
   "cell_type": "code",
   "execution_count": 12,
   "id": "f9481a5d",
   "metadata": {},
   "outputs": [
    {
     "name": "stdout",
     "output_type": "stream",
     "text": [
      "[7. 2. 1. ... 4. 5. 6.]\n"
     ]
    }
   ],
   "source": [
    "#calculating output\n",
    "output=np.empty(0)\n",
    "for datapoint in testdata:\n",
    "    output=np.append(output,test1(datapoint))\n",
    "print(output)"
   ]
  },
  {
   "cell_type": "code",
   "execution_count": 13,
   "id": "404cce9e",
   "metadata": {},
   "outputs": [
    {
     "data": {
      "text/plain": [
       "8203"
      ]
     },
     "execution_count": 13,
     "metadata": {},
     "output_type": "execute_result"
    }
   ],
   "source": [
    "#calculating accuracy\n",
    "correct=0\n",
    "total=10000\n",
    "for i in range(len(labeltest)):\n",
    "    if labeltest[i]==output[i]:\n",
    "        correct+=1\n",
    "    else:\n",
    "        continue\n",
    "correct"
   ]
  },
  {
   "cell_type": "code",
   "execution_count": 14,
   "id": "e0d737c8",
   "metadata": {},
   "outputs": [
    {
     "name": "stdout",
     "output_type": "stream",
     "text": [
      "Accuracy is = 82.03 %\n"
     ]
    }
   ],
   "source": [
    "#converting to %\n",
    "accuracy=(correct/total)*100\n",
    "print(f\"Accuracy is = {accuracy} %\")"
   ]
  },
  {
   "cell_type": "code",
   "execution_count": 16,
   "id": "31de98f2",
   "metadata": {},
   "outputs": [
    {
     "name": "stdout",
     "output_type": "stream",
     "text": [
      "correct results for 0 class =  878\n",
      "Accuracy of 0 class is = 89.59183673469387 %\n",
      "correct results for 1 class =  1092\n",
      "Accuracy of 1 class is = 96.2114537444934 %\n",
      "correct results for 2 class =  781\n",
      "Accuracy of 2 class is = 75.67829457364341 %\n",
      "correct results for 3 class =  814\n",
      "Accuracy of 3 class is = 80.5940594059406 %\n",
      "correct results for 4 class =  811\n",
      "Accuracy of 4 class is = 82.58655804480651 %\n",
      "correct results for 5 class =  612\n",
      "Accuracy of 5 class is = 68.60986547085201 %\n",
      "correct results for 6 class =  827\n",
      "Accuracy of 6 class is = 86.32567849686848 %\n",
      "correct results for 7 class =  856\n",
      "Accuracy of 7 class is = 83.26848249027238 %\n",
      "correct results for 8 class =  718\n",
      "Accuracy of 8 class is = 73.71663244353182 %\n",
      "correct results for 9 class =  814\n",
      "Accuracy of 9 class is = 80.67393458870168 %\n"
     ]
    }
   ],
   "source": [
    "#calculating class wise accuracy\n",
    "for i in np.unique(labeltest):\n",
    "    correct,incorrect=0,0\n",
    "    for j in range(len(output)):\n",
    "        if labeltest[j]==i:\n",
    "            if output[j]==labeltest[j]:\n",
    "                correct+=1\n",
    "            else:\n",
    "                incorrect+=1\n",
    "    print(f'correct results for {i} class = ',correct)\n",
    "    accuracy = np.multiply(np.divide(correct,np.count_nonzero(labeltest==i)),100)\n",
    "    print(f\"Accuracy of {i} class is = {accuracy} %\")"
   ]
  },
  {
   "cell_type": "code",
   "execution_count": null,
   "id": "c1e09628",
   "metadata": {},
   "outputs": [],
   "source": []
  }
 ],
 "metadata": {
  "kernelspec": {
   "display_name": "Python 3 (ipykernel)",
   "language": "python",
   "name": "python3"
  },
  "language_info": {
   "codemirror_mode": {
    "name": "ipython",
    "version": 3
   },
   "file_extension": ".py",
   "mimetype": "text/x-python",
   "name": "python",
   "nbconvert_exporter": "python",
   "pygments_lexer": "ipython3",
   "version": "3.9.12"
  }
 },
 "nbformat": 4,
 "nbformat_minor": 5
}
